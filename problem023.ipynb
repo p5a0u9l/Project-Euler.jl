{
 "cells": [
  {
   "cell_type": "code",
   "execution_count": null,
   "metadata": {
    "collapsed": true
   },
   "outputs": [],
   "source": [
    "module problem023\n",
    "using Primes\n",
    "function divisorsum(n)\n",
    "    \"\"\"\n",
    "    adapted from https://rosettacode.org/wiki/Factors_of_an_integer#Julia\n",
    "    \"\"\"\n",
    "    f = [one(n)]\n",
    "    for (p, k) in factor(n)\n",
    "        f = reduce(vcat, f, [f*p^j for j in 1:k])\n",
    "    end\n",
    "    return sum(f[1:end - 1])\n",
    "end\n",
    "\n",
    "function solve()\n",
    "    N = 28123\n",
    "    result = sum(1:23)\n",
    "\n",
    "    # generate list, A, containing all the abundants 12 < n < 28123\n",
    "    A = [UInt16(n) for n in 12:N if divisorsum(n) > n]\n",
    "\n",
    "    # generate list, P, containing all (unique) abundant sum pairs 24 < m < 28123\n",
    "    P = zeros(UInt16, sum(1:length(A)))\n",
    "    k = 0\n",
    "    for i in 1:length(A)\n",
    "        for j = i:length(A)\n",
    "            k += 1\n",
    "            P[k] = A[i] + A[j]\n",
    "        end\n",
    "    end\n",
    "    P = unique(P)\n",
    "\n",
    "    # generate list, R, containing all integers not in P\n",
    "    R = [UInt16(r) for r in 25:N if !in(r, P)]\n",
    "    result += sum(R)\n",
    "end\n",
    "end"
   ]
  }
 ],
 "metadata": {
  "kernelspec": {
   "display_name": "Julia 0.5.1-pre",
   "language": "julia",
   "name": "julia-0.5"
  },
  "language_info": {
   "file_extension": ".jl",
   "mimetype": "application/julia",
   "name": "julia",
   "version": "0.5.1"
  }
 },
 "nbformat": 4,
 "nbformat_minor": 2
}
