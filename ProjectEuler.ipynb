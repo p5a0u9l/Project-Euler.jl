{
 "cells": [
  {
   "cell_type": "code",
   "execution_count": 2,
   "metadata": {
    "collapsed": false
   },
   "outputs": [
    {
     "data": {
      "text/plain": [
       "p001 (generic function with 1 method)"
      ]
     },
     "execution_count": 2,
     "metadata": {},
     "output_type": "execute_result"
    }
   ],
   "source": [
    "# Problem 001\n",
    "function p001(N)\n",
    "    s = 0\n",
    "    for i = 1:N - 1\n",
    "        if (i % 3 == 0) | (i % 5 == 0); s += i; end\n",
    "    end; s\n",
    "end"
   ]
  },
  {
   "cell_type": "code",
   "execution_count": 5,
   "metadata": {
    "collapsed": false
   },
   "outputs": [
    {
     "name": "stdout",
     "output_type": "stream",
     "text": [
      "  "
     ]
    },
    {
     "data": {
      "text/plain": [
       "233168"
      ]
     },
     "execution_count": 5,
     "metadata": {},
     "output_type": "execute_result"
    },
    {
     "name": "stdout",
     "output_type": "stream",
     "text": [
      "0.000007 seconds (5 allocations: 176 bytes)\n"
     ]
    }
   ],
   "source": [
    "@time p001(1000)"
   ]
  },
  {
   "cell_type": "code",
   "execution_count": 6,
   "metadata": {
    "collapsed": false
   },
   "outputs": [
    {
     "data": {
      "text/plain": [
       "p002 (generic function with 1 method)"
      ]
     },
     "execution_count": 6,
     "metadata": {},
     "output_type": "execute_result"
    }
   ],
   "source": [
    "# Problem 002\n",
    "function p002(N)\n",
    "    s = b = 2; a = 1; c = 3\n",
    "    while c <= N\n",
    "        a = b; b = c; c = a + b\n",
    "        if c % 2 == 0; s += c; end\n",
    "    end; s\n",
    "end"
   ]
  },
  {
   "cell_type": "code",
   "execution_count": 7,
   "metadata": {
    "collapsed": false
   },
   "outputs": [
    {
     "name": "stdout",
     "output_type": "stream",
     "text": [
      "  "
     ]
    },
    {
     "data": {
      "text/plain": [
       "4613732"
      ]
     },
     "execution_count": 7,
     "metadata": {},
     "output_type": "execute_result"
    },
    {
     "name": "stdout",
     "output_type": "stream",
     "text": [
      "0.004565 seconds (1.62 k allocations: 82.714 KB)\n"
     ]
    }
   ],
   "source": [
    "@time p002(4e6)"
   ]
  },
  {
   "cell_type": "code",
   "execution_count": 8,
   "metadata": {
    "collapsed": false
   },
   "outputs": [
    {
     "data": {
      "text/plain": [
       "p003 (generic function with 1 method)"
      ]
     },
     "execution_count": 8,
     "metadata": {},
     "output_type": "execute_result"
    }
   ],
   "source": [
    "# Problem 003\n",
    "# What is the largest prime factor of the number 600851475143 ?\n",
    "function p003(N)\n",
    "    maxPrime = 0\n",
    "    for i::Int64 = 2:round(sqrt(N))\n",
    "#         println(N)\n",
    "        if N % i == 0\n",
    "            k = div(N, i)\n",
    "            if isprime(i)\n",
    "                if i > maxPrime\n",
    "                    maxPrime = i\n",
    "                end\n",
    "            end\n",
    "            if isprime(k)\n",
    "                if k > maxPrime\n",
    "                    maxPrime = k\n",
    "                end\n",
    "            end\n",
    "        end\n",
    "    end\n",
    "    maxPrime \n",
    "end"
   ]
  },
  {
   "cell_type": "code",
   "execution_count": 9,
   "metadata": {
    "collapsed": false
   },
   "outputs": [
    {
     "name": "stdout",
     "output_type": "stream",
     "text": [
      "  "
     ]
    },
    {
     "data": {
      "text/plain": [
       "6857"
      ]
     },
     "execution_count": 9,
     "metadata": {},
     "output_type": "execute_result"
    }
   ],
   "source": [
    "@time p003(600851475143)"
   ]
  },
  {
   "cell_type": "code",
   "execution_count": 10,
   "metadata": {
    "collapsed": false
   },
   "outputs": [
    {
     "data": {
      "text/plain": [
       "p004 (generic function with 1 method)"
      ]
     },
     "execution_count": 10,
     "metadata": {},
     "output_type": "execute_result"
    },
    {
     "name": "stdout",
     "output_type": "stream",
     "text": [
      "0.110564 seconds (102.00 k allocations: 4.325 MB)\n"
     ]
    }
   ],
   "source": [
    "# Find the value of d < 1000 \n",
    "# for which 1/d contains the longest recurring cycle in its \n",
    "# decimal fraction part.\n",
    "function p004(N)\n",
    "    maxCircular = 0\n",
    "    maxDiv = 1\n",
    "    for d = 2:N-1\n",
    "        c = 0; match = 0\n",
    "        bigstr = replace(string(BigInt(1)/d), \".\", \"\")\n",
    "        bigstr = replace(bigstr, \"e-01\", \"\")[2:end-2]\n",
    "        K = length(bigstr) # 77 \n",
    "        for i = 1:div(K, 2)\n",
    "            a = bigstr[1:i]\n",
    "            r = bigstr[1+i:1+i+length(a)-1]\n",
    "            if a == r \n",
    "                if match == 1\n",
    "                    j = round(Int, i/2)\n",
    "                    if a[1:j] == a[j+1:end]; break; end\n",
    "                end\n",
    "                c = i\n",
    "                if c > maxCircular;\n",
    "                    maxCircular = c;\n",
    "                    maxDiv = d\n",
    "                end\n",
    "                match = 1\n",
    "            end\n",
    "        end\n",
    "    end\n",
    "    println(\"Fraction: 1/$maxDiv, Circular Length: $maxCircular\")\n",
    "end"
   ]
  },
  {
   "cell_type": "code",
   "execution_count": 11,
   "metadata": {
    "collapsed": false
   },
   "outputs": [
    {
     "name": "stdout",
     "output_type": "stream",
     "text": [
      "Fraction: 1/983, Circular Length: 982\n"
     ]
    }
   ],
   "source": [
    "Base.MPFR.set_bigfloat_precision(2^13)\n",
    "@time p004(1000)\n"
   ]
  },
  {
   "cell_type": "code",
   "execution_count": 12,
   "metadata": {
    "collapsed": false
   },
   "outputs": [
    {
     "data": {
      "text/plain": [
       "p027 (generic function with 1 method)"
      ]
     },
     "execution_count": 12,
     "metadata": {},
     "output_type": "execute_result"
    }
   ],
   "source": [
    "function p027(N)\n",
    "    nMax = 0\n",
    "    for a = -N+1:0\n",
    "        for b = 0:N-1\n",
    "            n = 0\n",
    "            while true\n",
    "                if isprime(n.^2 + a*n + b); \n",
    "                    n += 1; \n",
    "                else; \n",
    "                    break; \n",
    "                end\n",
    "            end\n",
    "            if n > nMax\n",
    "                nMax = n\n",
    "                println(\"a: $a, b: $b, ab: $(a*b), n: $nMax\")\n",
    "            end\n",
    "        end\n",
    "    end\n",
    "end"
   ]
  },
  {
   "cell_type": "code",
   "execution_count": 13,
   "metadata": {
    "collapsed": false
   },
   "outputs": [
    {
     "name": "stdout",
     "output_type": "stream",
     "text": [
      "  0.240358 seconds (1.79 M allocations: 304.340 MB, 9.95% gc time)\n",
      "a: -999, b: 2, ab: -1998, n: 1\n",
      "a: -996, b: 997, ab: -993012, n: 2\n",
      "a: -499, b: 997, ab: -497503, n: 3\n",
      "a: -325, b: 977, ab: -317525, n: 4\n"
     ]
    }
   ],
   "source": [
    "@time p027(1000)"
   ]
  },
  {
   "cell_type": "code",
   "execution_count": 14,
   "metadata": {
    "collapsed": false
   },
   "outputs": [
    {
     "data": {
      "text/plain": [
       "p028 (generic function with 1 method)"
      ]
     },
     "execution_count": 14,
     "metadata": {},
     "output_type": "execute_result"
    },
    {
     "name": "stdout",
     "output_type": "stream",
     "text": [
      "a: -245, b: 977, ab: -239365, n: 5\n",
      "a: -197, b: 983, ab: -193651, n: 6\n",
      "a: -163, b: 983, ab: -160229, n: 7\n",
      "a: -131, b: 941, ab: -123271, n: 8\n",
      "a: -121, b: 947, ab: -114587, n: 9\n",
      "a: -105, b: 967, ab: -101535, n: 11\n",
      "a: -61, b: 971, ab: -59231, n: 71\n",
      "  0.067041 seconds (265.58 k allocations: 4.408 MB, 2.56% gc time)\n"
     ]
    }
   ],
   "source": [
    "# What is the sum of the numbers on the diagonals in a \n",
    "# 1001 by 1001 spiral formed in the same way?\n",
    "function p028(N)\n",
    "    direction = [[0 1]; [+1 0]; [0 -1]; [-1 0]; [0 1]]\n",
    "    A = zeros(Int64, N, N)\n",
    "    r = c = round(Int, (N-1)/2 + 1) \n",
    "    i = 1\n",
    "    A[r, c] = i\n",
    "    for s = 1:2:N-1\n",
    "        distance = [1, s, s+1, s+1, s+1]\n",
    "        for j = 1:5\n",
    "            d = distance[j]\n",
    "            for k = 1:d\n",
    "                r += direction[j, 1]\n",
    "                c += direction[j, 2]\n",
    "                i += 1\n",
    "                A[r, c] = i\n",
    "            end\n",
    "        end\n",
    "    end\n",
    "    result = sum(diag(A)) + sum(diag(rotr90(A))) - 1\n",
    "    println(\"Sum of diagonals: $result\")\n",
    "end"
   ]
  },
  {
   "cell_type": "code",
   "execution_count": 15,
   "metadata": {
    "collapsed": false
   },
   "outputs": [
    {
     "name": "stdout",
     "output_type": "stream",
     "text": [
      "Sum of diagonals: 20381\n"
     ]
    }
   ],
   "source": [
    "@time p028(31)"
   ]
  },
  {
   "cell_type": "code",
   "execution_count": 16,
   "metadata": {
    "collapsed": false
   },
   "outputs": [
    {
     "data": {
      "text/plain": [
       "p029 (generic function with 1 method)"
      ]
     },
     "execution_count": 16,
     "metadata": {},
     "output_type": "execute_result"
    },
    {
     "name": "stdout",
     "output_type": "stream",
     "text": [
      "  0.128964 seconds (119.99 k allocations: 5.880 MB)\n"
     ]
    }
   ],
   "source": [
    "# How many distinct terms are in the sequence generated by \n",
    "# a^b for 2 ≤ a ≤ 100 and 2 ≤ b ≤ 100?\n",
    "function p029(N)\n",
    "    A = zeros(BigInt, N-1, N-1)\n",
    "    for a = 2:N\n",
    "        for b = 2:N\n",
    "            A[a-1, b-1] = BigInt(a)^b\n",
    "        end\n",
    "    end\n",
    "    result = length(unique(A))\n",
    "    println(\"Distinct terms: $result\")\n",
    "end"
   ]
  },
  {
   "cell_type": "code",
   "execution_count": 17,
   "metadata": {
    "collapsed": false
   },
   "outputs": [
    {
     "name": "stdout",
     "output_type": "stream",
     "text": [
      "Distinct terms: 9183\n"
     ]
    }
   ],
   "source": [
    "@time p029(100)"
   ]
  },
  {
   "cell_type": "code",
   "execution_count": 18,
   "metadata": {
    "collapsed": false
   },
   "outputs": [
    {
     "data": {
      "text/plain": [
       "p030 (generic function with 1 method)"
      ]
     },
     "execution_count": 18,
     "metadata": {},
     "output_type": "execute_result"
    }
   ],
   "source": [
    "# Find the sum of all the numbers that can be written as the \n",
    "# sum of fifth powers of their digits.\n",
    "function p030(N)\n",
    "    b = []\n",
    "    for i = 2:N\n",
    "        a = sum([parse(Int, j)^5 for j in string(i)])\n",
    "        if a == i\n",
    "            push!(b, i)\n",
    "        end\n",
    "    end\n",
    "    println(b)\n",
    "    println(\"Sum of fifth digit powers: \", sum(b))\n",
    "end"
   ]
  },
  {
   "cell_type": "code",
   "execution_count": 19,
   "metadata": {
    "collapsed": false
   },
   "outputs": [
    {
     "name": "stdout",
     "output_type": "stream",
     "text": [
      "  0.208960 seconds (336.47 k allocations: 12.436 MB, 2.19% gc time)\n",
      "Any["
     ]
    }
   ],
   "source": [
    "@time p030(200000)"
   ]
  },
  {
   "cell_type": "code",
   "execution_count": 20,
   "metadata": {
    "collapsed": false
   },
   "outputs": [
    {
     "data": {
      "text/plain": [
       "p031 (generic function with 1 method)"
      ]
     },
     "execution_count": 20,
     "metadata": {},
     "output_type": "execute_result"
    },
    {
     "name": "stdout",
     "output_type": "stream",
     "text": [
      "4150,4151,54748,92727,93084,194979]\n",
      "Sum of fifth digit powers: 443839\n",
      "  0.182519 seconds (674.47 k allocations: 43.161 MB, 2.25% gc time)\n"
     ]
    }
   ],
   "source": [
    "function p031(N)\n",
    "    coins = [1,2,5,10,20,50,100,200]\n",
    "    ways = [1; zeros(N, 1)]\n",
    "    \n",
    "    for coin in coins\n",
    "        for i in range(coin, N+1)\n",
    "            ways[i] += ways[i - coin + 1]\n",
    "        end\n",
    "    end\n",
    "    ways\n",
    "end"
   ]
  },
  {
   "cell_type": "code",
   "execution_count": 21,
   "metadata": {
    "collapsed": false
   },
   "outputs": [
    {
     "data": {
      "text/plain": [
       "pandigital (generic function with 1 method)"
      ]
     },
     "execution_count": 21,
     "metadata": {},
     "output_type": "execute_result"
    }
   ],
   "source": [
    "function p032()\n",
    "    result = []\n",
    "    for a = 1:99\n",
    "        for b = 100:2000\n",
    "            p = pandigital(a, b)\n",
    "            if p > 0\n",
    "                push!(result, p)\n",
    "            end\n",
    "        end        \n",
    "    end\n",
    "    result = sum(unique(result))\n",
    "    println(\"Sum of products: $result\")\n",
    "end\n",
    "\n",
    "function pandigital(a, b)\n",
    "    tmp = a*b\n",
    "    p = 0\n",
    "    str = string(string(tmp), string(a), string(b))\n",
    "    if length(str) == 9 \n",
    "        if length(unique(str)) == 9\n",
    "            if search(str, '0') == 0\n",
    "                p = tmp\n",
    "#                 println(\"$a*$b = $p\")\n",
    "            end\n",
    "        end\n",
    "    end\n",
    "    p\n",
    "end    \n",
    "    "
   ]
  },
  {
   "cell_type": "code",
   "execution_count": 22,
   "metadata": {
    "collapsed": false
   },
   "outputs": [
    {
     "name": "stdout",
     "output_type": "stream",
     "text": [
      "Sum of products: 45228\n"
     ]
    }
   ],
   "source": [
    "@time p032()"
   ]
  },
  {
   "cell_type": "code",
   "execution_count": 23,
   "metadata": {
    "collapsed": false
   },
   "outputs": [
    {
     "data": {
      "text/plain": [
       "p033 (generic function with 1 method)"
      ]
     },
     "execution_count": 23,
     "metadata": {},
     "output_type": "execute_result"
    },
    {
     "name": "stdout",
     "output_type": "stream",
     "text": [
      "  0.133963 seconds (1.77 M allocations: 82.073 MB, 7.51% gc time)\n"
     ]
    }
   ],
   "source": [
    "function p033()\n",
    "    for n = 10:98, d = n + 1:99\n",
    "        num = string(n); den = string(d);\n",
    "        for i = 1:2, j = 1:2\n",
    "            if in('0', num) || in('0', den); continue; end\n",
    "            if num[i] == den[j]\n",
    "                f = n/d\n",
    "                num_ = num[(i % 2) + 1]; den_ = den[(j % 2) + 1];\n",
    "                if f == parse(Int, num_)/parse(Int, den_)\n",
    "                    println(\"$num/$den = $num_/$den_ = $f\")\n",
    "                end\n",
    "            end\n",
    "        end\n",
    "    end\n",
    "end"
   ]
  },
  {
   "cell_type": "code",
   "execution_count": 24,
   "metadata": {
    "collapsed": false
   },
   "outputs": [
    {
     "name": "stdout",
     "output_type": "stream",
     "text": [
      "16/64 = 1/4 = 0.25\n"
     ]
    }
   ],
   "source": [
    "@time p033();"
   ]
  },
  {
   "cell_type": "code",
   "execution_count": 25,
   "metadata": {
    "collapsed": false
   },
   "outputs": [
    {
     "data": {
      "text/plain": [
       "p034 (generic function with 1 method)"
      ]
     },
     "execution_count": 25,
     "metadata": {},
     "output_type": "execute_result"
    }
   ],
   "source": [
    "function p034()\n",
    "    f = Dict([i => factorial(i) for i in 0:9])\n",
    "    result = Set()\n",
    "    for i = 1:2:50000\n",
    "        istr = string(i)\n",
    "        if isempty(intersect(\"9\", istr))\n",
    "            s = 0\n",
    "            for j in istr\n",
    "                s += f[parse(Int, j)]\n",
    "            end\n",
    "            if s == i\n",
    "                println(\"$i: $s\")\n",
    "                push!(result, i)\n",
    "            end\n",
    "        end\n",
    "    end\n",
    "    println(\"Sum is $(sum(result) - 2 - 1)\")\n",
    "end"
   ]
  },
  {
   "cell_type": "code",
   "execution_count": 26,
   "metadata": {
    "collapsed": false
   },
   "outputs": [
    {
     "name": "stdout",
     "output_type": "stream",
     "text": [
      "19/95 = 1/5 = 0.2\n",
      "26/65 = 2/5 = 0.4\n",
      "49/98 = 4/8 = 0.5\n",
      "  0.034046 seconds (49.16 k allocations: 2.211 MB)\n",
      "1: 1\n",
      "145: 145\n",
      "40585: 40585\n",
      "Sum is 40728\n"
     ]
    }
   ],
   "source": [
    "@time p034()"
   ]
  },
  {
   "cell_type": "code",
   "execution_count": 27,
   "metadata": {
    "collapsed": false
   },
   "outputs": [
    {
     "data": {
      "text/plain": [
       "p035 (generic function with 1 method)"
      ]
     },
     "execution_count": 27,
     "metadata": {},
     "output_type": "execute_result"
    }
   ],
   "source": [
    "function p035(N)\n",
    "    count = 0\n",
    "    p = primes(N)\n",
    "    for n in p\n",
    "        str = string(n)\n",
    "        has_even = !isempty(intersect(\"024568\", str))\n",
    "        if !has_even\n",
    "            a = 1:length(str)\n",
    "            allprime = true\n",
    "            for i = 0:length(str) - 1\n",
    "                t = parse(Int, str[vec(circshift(a, i))])\n",
    "                if ~isprime(t); allprime = false; break; end\n",
    "            end\n",
    "            if allprime; count += 1; end\n",
    "        end\n",
    "    end\n",
    "    println(\"Circular prime count is $(count + 2)\")\n",
    "end"
   ]
  },
  {
   "cell_type": "code",
   "execution_count": 28,
   "metadata": {
    "collapsed": false
   },
   "outputs": [
    {
     "name": "stdout",
     "output_type": "stream",
     "text": [
      "  0.072860 seconds (149.09 k allocations: 6.934 MB, 4.33% gc time)\n",
      "Circular prime count is 55\n"
     ]
    }
   ],
   "source": [
    "@time p035(1000000)"
   ]
  },
  {
   "cell_type": "code",
   "execution_count": 29,
   "metadata": {
    "collapsed": false
   },
   "outputs": [
    {
     "data": {
      "text/plain": [
       "p036 (generic function with 1 method)"
      ]
     },
     "execution_count": 29,
     "metadata": {},
     "output_type": "execute_result"
    }
   ],
   "source": [
    "function p036(N)\n",
    "    s = 0\n",
    "    for n = 1:N\n",
    "        d = string(n)\n",
    "        b = bin(n)\n",
    "        if reverse(d) == d && reverse(b) == b\n",
    "            s += n\n",
    "#             println(\"Palindromic: $d, $b\")\n",
    "        end\n",
    "    end\n",
    "    println(\"Sum is $s\")\n",
    "end"
   ]
  },
  {
   "cell_type": "code",
   "execution_count": 30,
   "metadata": {
    "collapsed": false
   },
   "outputs": [
    {
     "name": "stdout",
     "output_type": "stream",
     "text": [
      "  0.112745 seconds (449.89 k allocations: 21.414 MB, 3.08% gc time)\n",
      "Sum is 872187\n"
     ]
    }
   ],
   "source": [
    "@time p036(1000000)"
   ]
  },
  {
   "cell_type": "code",
   "execution_count": 31,
   "metadata": {
    "collapsed": false
   },
   "outputs": [
    {
     "data": {
      "text/plain": [
       "getnum (generic function with 1 method)"
      ]
     },
     "execution_count": 31,
     "metadata": {},
     "output_type": "execute_result"
    }
   ],
   "source": [
    "function p037(N)\n",
    "    p = primes(N)[5:end] # skip single digit primes\n",
    "    evens = [0, 2, 4, 6, 8]\n",
    "    s = c = 0;\n",
    "    for n in p\n",
    "        a = digits(n)\n",
    "        if n > 99 # only 3 digits and greater\n",
    "            if ~isempty(intersect(a, evens)); continue; end\n",
    "        end\n",
    "        tprime = true\n",
    "        for i = 0:length(a)-2\n",
    "            if ~isprime(getnum(a[1:i+1])) || ~isprime(getnum(a[end-i:end]))    \n",
    "                 tprime = false; continue; \n",
    "            end\n",
    "        end\n",
    "        if tprime\n",
    "#             println(\"$n\")\n",
    "            s += n; c += 1;\n",
    "        end\n",
    "    end\n",
    "    println(\"Sum of $c truncatable primes is $s\")\n",
    "end\n",
    "\n",
    "function getnum(num_array)d\n",
    "    sum([num_array[k]*10^(k-1) for k=1:length(num_array)])\n",
    "end"
   ]
  },
  {
   "cell_type": "code",
   "execution_count": 32,
   "metadata": {
    "collapsed": false
   },
   "outputs": [
    {
     "ename": "LoadError",
     "evalue": "LoadError: UndefVarError: d not defined\nwhile loading In[32], in expression starting on line 155",
     "output_type": "error",
     "traceback": [
      "LoadError: UndefVarError: d not defined\nwhile loading In[32], in expression starting on line 155",
      "",
      " in getnum at In[31]:25",
      " in p037 at In[31]:12"
     ]
    }
   ],
   "source": [
    "@time p037(1000000)"
   ]
  },
  {
   "cell_type": "code",
   "execution_count": 33,
   "metadata": {
    "collapsed": false
   },
   "outputs": [
    {
     "name": "stdout",
     "output_type": "stream",
     "text": [
      "  0.244385 seconds (6.01 M allocations: 289.993 MB, 16.48% gc time)\n"
     ]
    },
    {
     "data": {
      "text/plain": [
       "concat (generic function with 1 method)"
      ]
     },
     "execution_count": 33,
     "metadata": {},
     "output_type": "execute_result"
    }
   ],
   "source": [
    "function p038()\n",
    "    for i = 9000:9999\n",
    "        x = redigi(i, 2)\n",
    "        if ispandigi(x)\n",
    "            println(\"x: $x, $(ispandigi(x))\")\n",
    "        end\n",
    "    end\n",
    "end\n",
    "\n",
    "function redigi(n, k)    \n",
    "    if k == 1\n",
    "        return n\n",
    "    else\n",
    "        return concat(n*k, redigi(n, k - 1))\n",
    "    end\n",
    "end\n",
    "\n",
    "function ispandigi(p)\n",
    "    d = digits(p);\n",
    "    if length(d) == 9  && length(unique(d)) == 9 && ~in(0, d)\n",
    "        return true\n",
    "    end\n",
    "    return false\n",
    "end    \n",
    "\n",
    "function concat(a, b)\n",
    "    return parse(Int, \"$b$a\")\n",
    "end"
   ]
  },
  {
   "cell_type": "code",
   "execution_count": 34,
   "metadata": {
    "collapsed": false
   },
   "outputs": [
    {
     "name": "stdout",
     "output_type": "stream",
     "text": [
      "x: 926718534, true\n"
     ]
    }
   ],
   "source": [
    "@time p038()"
   ]
  },
  {
   "cell_type": "code",
   "execution_count": 35,
   "metadata": {
    "collapsed": false
   },
   "outputs": [
    {
     "data": {
      "text/plain": [
       "euclid (generic function with 1 method)"
      ]
     },
     "execution_count": 35,
     "metadata": {},
     "output_type": "execute_result"
    }
   ],
   "source": [
    "function p039()\n",
    "    P = pythag_triplets(1000)\n",
    "    perims = P[:, 4]\n",
    "#     print(perims .== 120)\n",
    "    (r, count) = hist(perims, unique(perims))\n",
    "    println(\"$count\")\n",
    "    \n",
    "    max_p = indmax(count)\n",
    "    println(\"p = $(max_p) maximizes number of solutions with $(count[max_p])\")\n",
    "#     return count\n",
    "end\n",
    "\n",
    "function pythag_triplets(N)\n",
    "    count = 0\n",
    "    ptrips = zeros(Int, 200, 4)\n",
    "    for n = 1:30, m = 1:30\n",
    "        if m > n\n",
    "            (a, b, c, p) = euclid(m, n)\n",
    "            if p <= N\n",
    "                euc = sort([a, b, c, p])\n",
    "                if ~in(euc, ptrips)\n",
    "                    count += 1\n",
    "                    ptrips[count, :] = euc\n",
    "                end\n",
    "            end\n",
    "        end\n",
    "    end\n",
    "    return ptrips[ptrips[:, 1] .!= 0, :]\n",
    "end\n",
    "\n",
    "function euclid(m, n)\n",
    "    a = 2*m*n\n",
    "    b = m^2 - n^2\n",
    "    c = m^2 + n^2\n",
    "    p = a+b+c\n",
    "    a, b, c, p\n",
    "end"
   ]
  },
  {
   "cell_type": "code",
   "execution_count": 36,
   "metadata": {
    "collapsed": false
   },
   "outputs": [
    {
     "name": "stdout",
     "output_type": "stream",
     "text": [
      "x: 927318546, true\n",
      "x: 932718654, true\n",
      "  0.020643 seconds (40.27 k allocations: 2.046 MB)\n",
      "[1,2,3,3,4,3,0,0,0,0,0,0,0,0,0,0,0,0,0,0,0,0,0,0,0,0,0,0,0,0,0,0,0,0,0,0,0,0,0,0,0,0,0,0,0,0,0,0,0,0,0,0,0,0,0,0,0,0,0,0,0,0,0,0,0,0,0,0,0,0,0,0,5,6,7,7,4,0,0,0,0,0,0,0,0,0,0,0,0,0,8,9,10,11,11,12,13,5,0,0,0,0,0,0,0,0,0,0,0,0,0,0,0,0,0,0,0,0,0,0,0,0,0,0,0,0,0,0,0,0,0,0,0,0,0,0,0,0,0,13,6,0,0,10]\n"
     ]
    }
   ],
   "source": [
    "p = p039() "
   ]
  },
  {
   "cell_type": "code",
   "execution_count": 37,
   "metadata": {
    "collapsed": false
   },
   "outputs": [
    {
     "ename": "LoadError",
     "evalue": "LoadError: MethodError: `start` has no method matching start(::Void)\nwhile loading In[37], in expression starting on line 1",
     "output_type": "error",
     "traceback": [
      "LoadError: MethodError: `start` has no method matching start(::Void)\nwhile loading In[37], in expression starting on line 1",
      "",
      " in findmax at array.jl:817",
      " in indmax at array.jl:852"
     ]
    }
   ],
   "source": [
    "indmax(p)"
   ]
  },
  {
   "cell_type": "code",
   "execution_count": null,
   "metadata": {
    "collapsed": true
   },
   "outputs": [],
   "source": []
  },
  {
   "cell_type": "code",
   "execution_count": null,
   "metadata": {
    "collapsed": true
   },
   "outputs": [],
   "source": []
  },
  {
   "cell_type": "code",
   "execution_count": null,
   "metadata": {
    "collapsed": true
   },
   "outputs": [],
   "source": []
  },
  {
   "cell_type": "code",
   "execution_count": null,
   "metadata": {
    "collapsed": true
   },
   "outputs": [],
   "source": []
  },
  {
   "cell_type": "code",
   "execution_count": null,
   "metadata": {
    "collapsed": true
   },
   "outputs": [],
   "source": []
  },
  {
   "cell_type": "code",
   "execution_count": null,
   "metadata": {
    "collapsed": true
   },
   "outputs": [],
   "source": []
  },
  {
   "cell_type": "code",
   "execution_count": null,
   "metadata": {
    "collapsed": true
   },
   "outputs": [],
   "source": []
  },
  {
   "cell_type": "code",
   "execution_count": null,
   "metadata": {
    "collapsed": true
   },
   "outputs": [],
   "source": []
  },
  {
   "cell_type": "code",
   "execution_count": null,
   "metadata": {
    "collapsed": true
   },
   "outputs": [],
   "source": []
  },
  {
   "cell_type": "code",
   "execution_count": null,
   "metadata": {
    "collapsed": true
   },
   "outputs": [],
   "source": []
  },
  {
   "cell_type": "code",
   "execution_count": null,
   "metadata": {
    "collapsed": true
   },
   "outputs": [],
   "source": []
  },
  {
   "cell_type": "code",
   "execution_count": null,
   "metadata": {
    "collapsed": true
   },
   "outputs": [],
   "source": []
  },
  {
   "cell_type": "code",
   "execution_count": null,
   "metadata": {
    "collapsed": true
   },
   "outputs": [],
   "source": []
  },
  {
   "cell_type": "code",
   "execution_count": null,
   "metadata": {
    "collapsed": true
   },
   "outputs": [],
   "source": []
  },
  {
   "cell_type": "code",
   "execution_count": null,
   "metadata": {
    "collapsed": true
   },
   "outputs": [],
   "source": []
  },
  {
   "cell_type": "code",
   "execution_count": null,
   "metadata": {
    "collapsed": true
   },
   "outputs": [],
   "source": []
  },
  {
   "cell_type": "code",
   "execution_count": null,
   "metadata": {
    "collapsed": true
   },
   "outputs": [],
   "source": []
  },
  {
   "cell_type": "code",
   "execution_count": null,
   "metadata": {
    "collapsed": true
   },
   "outputs": [],
   "source": []
  },
  {
   "cell_type": "code",
   "execution_count": null,
   "metadata": {
    "collapsed": true
   },
   "outputs": [],
   "source": []
  },
  {
   "cell_type": "code",
   "execution_count": null,
   "metadata": {
    "collapsed": true
   },
   "outputs": [],
   "source": []
  },
  {
   "cell_type": "code",
   "execution_count": null,
   "metadata": {
    "collapsed": true
   },
   "outputs": [],
   "source": []
  },
  {
   "cell_type": "code",
   "execution_count": null,
   "metadata": {
    "collapsed": true
   },
   "outputs": [],
   "source": []
  },
  {
   "cell_type": "code",
   "execution_count": null,
   "metadata": {
    "collapsed": true
   },
   "outputs": [],
   "source": []
  },
  {
   "cell_type": "code",
   "execution_count": null,
   "metadata": {
    "collapsed": true
   },
   "outputs": [],
   "source": []
  },
  {
   "cell_type": "code",
   "execution_count": null,
   "metadata": {
    "collapsed": true
   },
   "outputs": [],
   "source": []
  },
  {
   "cell_type": "code",
   "execution_count": null,
   "metadata": {
    "collapsed": true
   },
   "outputs": [],
   "source": []
  },
  {
   "cell_type": "code",
   "execution_count": null,
   "metadata": {
    "collapsed": true
   },
   "outputs": [],
   "source": []
  },
  {
   "cell_type": "code",
   "execution_count": null,
   "metadata": {
    "collapsed": true
   },
   "outputs": [],
   "source": []
  },
  {
   "cell_type": "code",
   "execution_count": null,
   "metadata": {
    "collapsed": true
   },
   "outputs": [],
   "source": []
  },
  {
   "cell_type": "code",
   "execution_count": null,
   "metadata": {
    "collapsed": true
   },
   "outputs": [],
   "source": []
  },
  {
   "cell_type": "code",
   "execution_count": null,
   "metadata": {
    "collapsed": true
   },
   "outputs": [],
   "source": []
  },
  {
   "cell_type": "code",
   "execution_count": null,
   "metadata": {
    "collapsed": true
   },
   "outputs": [],
   "source": []
  },
  {
   "cell_type": "code",
   "execution_count": null,
   "metadata": {
    "collapsed": true
   },
   "outputs": [],
   "source": []
  },
  {
   "cell_type": "code",
   "execution_count": null,
   "metadata": {
    "collapsed": true
   },
   "outputs": [],
   "source": []
  },
  {
   "cell_type": "code",
   "execution_count": null,
   "metadata": {
    "collapsed": true
   },
   "outputs": [],
   "source": []
  },
  {
   "cell_type": "code",
   "execution_count": null,
   "metadata": {
    "collapsed": true
   },
   "outputs": [],
   "source": []
  },
  {
   "cell_type": "code",
   "execution_count": null,
   "metadata": {
    "collapsed": true
   },
   "outputs": [],
   "source": []
  },
  {
   "cell_type": "code",
   "execution_count": null,
   "metadata": {
    "collapsed": true
   },
   "outputs": [],
   "source": []
  }
 ],
 "metadata": {
  "kernelspec": {
   "display_name": "Julia 0.5.0-dev",
   "language": "julia",
   "name": "julia-0.5"
  },
  "language_info": {
   "file_extension": ".jl",
   "mimetype": "application/julia",
   "name": "julia",
   "version": "0.5.0"
  }
 },
 "nbformat": 4,
 "nbformat_minor": 0
}
